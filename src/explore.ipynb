{
    "cells": [
        {
            "cell_type": "markdown",
            "metadata": {},
            "source": [
                "# Explore here"
            ]
        },
        {
            "cell_type": "code",
            "execution_count": 13,
            "metadata": {},
            "outputs": [
                {
                    "name": "stdout",
                    "output_type": "stream",
                    "text": [
                        "Top 10 canciones de Shakira:\n",
                        "1: Hips Don't Lie (feat. Wyclef Jean) - Popularidad: 87\n",
                        "2: TQG - Popularidad: 84\n",
                        "3: Dia de Enero - Popularidad: 81\n",
                        "4: Antologia - Popularidad: 79\n",
                        "5: Inevitable - Popularidad: 79\n",
                        "6: Shakira: Bzrp Music Sessions, Vol. 53 - Popularidad: 78\n",
                        "7: Waka Waka (This Time for Africa) [The Official 2010 FIFA World Cup (TM) Song] (feat. Freshlyground) - Popularidad: 74\n",
                        "8: Whenever, Wherever - Popularidad: 76\n",
                        "9: Chantaje (feat. Maluma) - Popularidad: 77\n",
                        "10: Can't Remember to Forget You (feat. Rihanna) - Popularidad: 74\n"
                    ]
                }
            ],
            "source": [
                "import os\n",
                "import pandas as pd\n",
                "import seaborn as sns\n",
                "from dotenv import load_dotenv\n",
                "\n",
                "# load the .env file variables\n",
                "load_dotenv()\n",
                "\n",
                "\n",
                "client_id = os.environ.get(\"CLIENT_ID\")\n",
                "client_secret = os.environ.get(\"CLIENT_SECRET\")\n",
                "\n",
                "\n",
                "import spotipy\n",
                "from spotipy.oauth2 import SpotifyClientCredentials\n",
                "spotipy.Spotify()\n",
                "\n",
                "client_id = os.environ.get(\"CLIENT_ID\")\n",
                "client_secret = os.environ.get(\"CLIENT_SECRET\")\n",
                "auth_manager = SpotifyClientCredentials(client_id=client_id, client_secret=client_secret)\n",
                "sp = spotipy.Spotify(auth_manager=auth_manager)\n",
                "\n",
                "sh_url = 'spotify:artist:0EmeFodog0BfCgMzAIvKQp'\n",
                "top_tracks = sp.artist_top_tracks(sh_url)\n",
                "artist_name = \"Shakira\"\n",
                "\n",
                "print(f\"Top 10 canciones de {artist_name}:\")\n",
                "for idx, track in enumerate(top_tracks['tracks'][:10]):\n",
                "    print(f\"{idx + 1}: {track['name']} - Popularidad: {track['popularity']}\")\n",
                "\n"
            ]
        }
    ],
    "metadata": {
        "kernelspec": {
            "display_name": "Python 3.8.13 64-bit ('3.8.13')",
            "language": "python",
            "name": "python3"
        },
        "language_info": {
            "codemirror_mode": {
                "name": "ipython",
                "version": 3
            },
            "file_extension": ".py",
            "mimetype": "text/x-python",
            "name": "python",
            "nbconvert_exporter": "python",
            "pygments_lexer": "ipython3",
            "version": "3.12.4"
        },
        "orig_nbformat": 4,
        "vscode": {
            "interpreter": {
                "hash": "110cc1dee26208153f2972f08a2ad52b6a56238dc66d48e87fb757ef2996db56"
            }
        }
    },
    "nbformat": 4,
    "nbformat_minor": 2
}
